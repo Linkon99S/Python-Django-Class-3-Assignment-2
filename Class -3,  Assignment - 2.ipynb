{
 "cells": [
  {
   "cell_type": "code",
   "execution_count": 1,
   "id": "307fc881",
   "metadata": {},
   "outputs": [],
   "source": [
    "# Class -3,  Assignment - 2\n",
    "#1. Create CRUD (Create, Read, Update, Delete) Operation."
   ]
  },
  {
   "cell_type": "code",
   "execution_count": 2,
   "id": "c50723b0",
   "metadata": {},
   "outputs": [
    {
     "name": "stdout",
     "output_type": "stream",
     "text": [
      "What do you want? Enter Choice : read / add / update / delete / quite: read\n",
      "Congratulations! This is your list:  read\n",
      "What do you want? Enter Choice : read / add / update / delete / quite: add\n",
      "Please add your element in this list: Orange\n",
      "This is your added list add\n",
      "What do you want? Enter Choice : read / add / update / delete / quite: update\n",
      "What do you want? Enter Choice : read / add / update / delete / quite: update\n",
      "What do you want? Enter Choice : read / add / update / delete / quite: delete\n",
      "Enter deleted item: Jackfruit\n",
      "Not matched item\n",
      "This is your deleted list delete\n",
      "What do you want? Enter Choice : read / add / update / delete / quite: Orange\n",
      "What do you want? Enter Choice : read / add / update / delete / quite: update\n",
      "What do you want? Enter Choice : read / add / update / delete / quite: quite\n",
      "You dont like this fruits\n"
     ]
    }
   ],
   "source": [
    "#Create\n",
    "fruits = ['Mango','Banana','Strawberries','Apple']\n",
    "\n",
    "while True:\n",
    "    fruits = input(\"What do you want? Enter Choice : read / add / update / delete / quite: \")\n",
    "    if fruits == \"quite\":\n",
    "        print(\"You dont like this fruits\")\n",
    "        break\n",
    "        \n",
    "#read your list\n",
    "    elif fruits == 'read':\n",
    "        print(\"Congratulations! This is your list: \",fruits)\n",
    "        \n",
    "#add your list\n",
    "    elif fruits == 'add':\n",
    "        temp=[]\n",
    "        temp.append(input(\"Please add your element in this list: \"))\n",
    "        print(\"This is your added list\",fruits)\n",
    "        \n",
    "\n",
    "#delete element from this list\n",
    "    elif fruits == 'delete':\n",
    "        dl = input(\"Enter deleted item: \",)\n",
    "        if dl in fruits:\n",
    "            fruits.remove(dl)\n",
    "        else:\n",
    "            print(\"Not matched item\")\n",
    "        print(\"This is your deleted list\",fruits)"
   ]
  },
  {
   "cell_type": "code",
   "execution_count": null,
   "id": "61d740ee",
   "metadata": {},
   "outputs": [],
   "source": []
  }
 ],
 "metadata": {
  "kernelspec": {
   "display_name": "Python 3 (ipykernel)",
   "language": "python",
   "name": "python3"
  },
  "language_info": {
   "codemirror_mode": {
    "name": "ipython",
    "version": 3
   },
   "file_extension": ".py",
   "mimetype": "text/x-python",
   "name": "python",
   "nbconvert_exporter": "python",
   "pygments_lexer": "ipython3",
   "version": "3.9.13"
  }
 },
 "nbformat": 4,
 "nbformat_minor": 5
}
